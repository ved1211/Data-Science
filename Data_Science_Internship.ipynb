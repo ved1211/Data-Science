{
  "nbformat": 4,
  "nbformat_minor": 0,
  "metadata": {
    "colab": {
      "provenance": [],
      "authorship_tag": "ABX9TyMABQPGP4VVmL+vt3YXk2p4",
      "include_colab_link": true
    },
    "kernelspec": {
      "name": "python3",
      "display_name": "Python 3"
    },
    "language_info": {
      "name": "python"
    }
  },
  "cells": [
    {
      "cell_type": "markdown",
      "metadata": {
        "id": "view-in-github",
        "colab_type": "text"
      },
      "source": [
        "<a href=\"https://colab.research.google.com/github/ved1211/Data-Science-Internship/blob/main/Data_Science_Internship.ipynb\" target=\"_parent\"><img src=\"https://colab.research.google.com/assets/colab-badge.svg\" alt=\"Open In Colab\"/></a>"
      ]
    },
    {
      "cell_type": "markdown",
      "source": [
        "Collection of datatypes in Python \n",
        "1. List: ordered collection of data types, uses [], is mutable\n",
        "2. Tuple: ordered collection of datatypes, uses (), is immutable\n",
        "3. Set: data are stored in terms of key & the value, uses {}, mutable\n",
        "4. Dictionary: unordered collection of datatypes, uses {}, no duplicates"
      ],
      "metadata": {
        "id": "qDs-fQGtmVRK"
      }
    },
    {
      "cell_type": "code",
      "source": [
        "#list\n",
        "mylist= [\"Data\",\"Status\",263,True]\n",
        "print(mylist)\n",
        "\n",
        "print(mylist[0]) #positive indexing\n",
        "\n",
        "print(mylist[-1]) #negative indexing \n",
        "\n",
        "#updating the data \n",
        "mylist[3]= False\n",
        "print(mylist)\n",
        "\n",
        "#append(i.e. add) data\n",
        "mylist.append(\"Hi\")\n",
        "print(mylist)\n",
        "\n",
        "#inserting value\n",
        "mylist.insert(2,35)\n",
        "print(mylist)\n",
        "\n",
        "#extend(combining) data\n",
        "a=[1,2,3]\n",
        "b=[44,33,12]\n",
        "\n",
        "#remove\n",
        "mylist.remove(\"Data\")\n",
        "print(mylist)"
      ],
      "metadata": {
        "colab": {
          "base_uri": "https://localhost:8080/"
        },
        "id": "h3jUUBXzly0r",
        "outputId": "a774f9eb-3a31-42f7-8719-3f5c879aa8ca"
      },
      "execution_count": 11,
      "outputs": [
        {
          "output_type": "stream",
          "name": "stdout",
          "text": [
            "['Data', 'Status', 263, True]\n",
            "Data\n",
            "True\n",
            "['Data', 'Status', 263, False]\n",
            "['Data', 'Status', 263, False, 'Hi']\n",
            "['Data', 'Status', 35, 263, False, 'Hi']\n",
            "['Status', 35, 263, False, 'Hi']\n"
          ]
        }
      ]
    },
    {
      "cell_type": "code",
      "source": [
        "#tuple\n",
        "mytuple=(\"Dell\",\"HP\",\"Asus\",2355)\n",
        "print(mytuple)\n",
        "print(len(mytuple))\n",
        "\n",
        "#update, insert, append, pop, remove, delete will not work"
      ],
      "metadata": {
        "colab": {
          "base_uri": "https://localhost:8080/"
        },
        "id": "-kjcj1eB7Fb6",
        "outputId": "ef04a16f-7976-4f99-8255-fd2517e44419"
      },
      "execution_count": 12,
      "outputs": [
        {
          "output_type": "stream",
          "name": "stdout",
          "text": [
            "('Dell', 'HP', 'Asus', 2355)\n",
            "4\n"
          ]
        }
      ]
    },
    {
      "cell_type": "code",
      "source": [
        "#dictionary\n",
        "mydic={\n",
        "    \"Brand\": \"Asus\",\n",
        "    \"Color\": \"Red\",\n",
        "    \"Year of making\": 2022\n",
        "}\n",
        "print(mydic)\n",
        "\n",
        "#update \n",
        "mydic[\"Color\"]= \"Black\"\n",
        "print(mydic)\n",
        "\n",
        "#delete\n",
        "del mydic[\"Color\"]\n",
        "print(mydic)"
      ],
      "metadata": {
        "colab": {
          "base_uri": "https://localhost:8080/"
        },
        "id": "dVoVS8eH7jW3",
        "outputId": "ee5c023b-1468-46f9-a83f-f32c21717f7d"
      },
      "execution_count": 15,
      "outputs": [
        {
          "output_type": "stream",
          "name": "stdout",
          "text": [
            "{'Brand': 'Asus', 'Color': 'Red', 'Year of making': 2022}\n",
            "{'Brand': 'Asus', 'Color': 'Black', 'Year of making': 2022}\n",
            "{'Brand': 'Asus', 'Year of making': 2022}\n"
          ]
        }
      ]
    },
    {
      "cell_type": "code",
      "source": [
        "#set\n",
        "myset={\"Data\",\"data1\",0,0,\"Task\"}\n",
        "print(myset)"
      ],
      "metadata": {
        "colab": {
          "base_uri": "https://localhost:8080/"
        },
        "id": "CgJoiAQl8XGN",
        "outputId": "c3f6766b-ddcd-4ea5-de49-b5f0f8f7808e"
      },
      "execution_count": 16,
      "outputs": [
        {
          "output_type": "stream",
          "name": "stdout",
          "text": [
            "{0, 'Task', 'data1', 'Data'}\n"
          ]
        }
      ]
    }
  ]
}