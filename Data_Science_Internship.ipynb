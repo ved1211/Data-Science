{
  "nbformat": 4,
  "nbformat_minor": 0,
  "metadata": {
    "colab": {
      "provenance": [],
      "authorship_tag": "ABX9TyOU6b+/cwypnHsRJKzGWoGh",
      "include_colab_link": true
    },
    "kernelspec": {
      "name": "python3",
      "display_name": "Python 3"
    },
    "language_info": {
      "name": "python"
    }
  },
  "cells": [
    {
      "cell_type": "markdown",
      "metadata": {
        "id": "view-in-github",
        "colab_type": "text"
      },
      "source": [
        "<a href=\"https://colab.research.google.com/github/ved1211/Data-Science-Internship/blob/main/Data_Science_Internship.ipynb\" target=\"_parent\"><img src=\"https://colab.research.google.com/assets/colab-badge.svg\" alt=\"Open In Colab\"/></a>"
      ]
    },
    {
      "cell_type": "markdown",
      "source": [
        "Collection of datatypes in Python \n",
        "1. List: ordered collection of data types, uses [], is mutable\n",
        "2. Tuple: ordered collection of datatypes, uses (), is immutable\n",
        "3. Set: data are stored in terms of key & the value, uses {}, mutable\n",
        "4. Dictionary: unordered collection of datatypes, uses {}, no duplicates"
      ],
      "metadata": {
        "id": "qDs-fQGtmVRK"
      }
    },
    {
      "cell_type": "code",
      "source": [
        "#list\n",
        "mylist= [\"Data\",\"Status\",263,True]\n",
        "print(mylist)\n",
        "\n",
        "print(mylist[0]) #positive indexing\n",
        "\n",
        "print(mylist[-1]) #negative indexing \n",
        "\n",
        "#updating the data \n",
        "mylist[3]= False\n",
        "print(mylist)\n",
        "\n",
        "#append(i.e. add) data\n",
        "mylist.append(\"Hi\")\n",
        "print(mylist)\n",
        "\n",
        "#inserting value\n",
        "mylist.insert(2,35)\n",
        "print(mylist)\n",
        "\n"
      ],
      "metadata": {
        "colab": {
          "base_uri": "https://localhost:8080/"
        },
        "id": "h3jUUBXzly0r",
        "outputId": "dcdb60f9-bdde-4e1f-cf1b-c9a02a37d02c"
      },
      "execution_count": 9,
      "outputs": [
        {
          "output_type": "stream",
          "name": "stdout",
          "text": [
            "['Data', 'Status', 263, True]\n",
            "Data\n",
            "True\n",
            "['Data', 'Status', 263, False]\n",
            "['Data', 'Status', 263, False, 'Hi']\n",
            "['Data', 'Status', 35, 263, False, 'Hi']\n"
          ]
        }
      ]
    }
  ]
}